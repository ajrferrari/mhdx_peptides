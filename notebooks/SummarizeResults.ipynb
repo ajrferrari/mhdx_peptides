{
 "cells": [
  {
   "cell_type": "code",
   "execution_count": 1,
   "id": "53c3d7c4",
   "metadata": {},
   "outputs": [
    {
     "name": "stderr",
     "output_type": "stream",
     "text": [
      "/tmp/ipykernel_3217772/401530445.py:1: DeprecationWarning: \n",
      "Pyarrow will become a required dependency of pandas in the next major release of pandas (pandas 3.0),\n",
      "(to allow more performant data types, such as the Arrow string type, and better interoperability with other libraries)\n",
      "but was not found to be installed on your system.\n",
      "If this would cause problems for you,\n",
      "please provide us feedback at https://github.com/pandas-dev/pandas/issues/54466\n",
      "        \n",
      "  import pandas as pd\n"
     ]
    }
   ],
   "source": [
    "import pandas as pd\n",
    "import glob "
   ]
  },
  {
   "cell_type": "code",
   "execution_count": 5,
   "id": "78107af7",
   "metadata": {},
   "outputs": [
    {
     "data": {
      "text/plain": [
       "['./pipeline_out/nep2/dataframe/df_unique.json',\n",
       " './pipeline_out/pepsin/dataframe/df_unique.json']"
      ]
     },
     "execution_count": 5,
     "metadata": {},
     "output_type": "execute_result"
    }
   ],
   "source": [
    "fs = glob.glob(\"./pipeline_out/*/dataframe/*\")\n",
    "fs"
   ]
  },
  {
   "cell_type": "code",
   "execution_count": 7,
   "id": "d258e6d0",
   "metadata": {},
   "outputs": [],
   "source": [
    "df = pd.read_json(fs[0])"
   ]
  },
  {
   "cell_type": "code",
   "execution_count": 8,
   "id": "f39007ab",
   "metadata": {},
   "outputs": [
    {
     "data": {
      "text/html": [
       "<div>\n",
       "<style scoped>\n",
       "    .dataframe tbody tr th:only-of-type {\n",
       "        vertical-align: middle;\n",
       "    }\n",
       "\n",
       "    .dataframe tbody tr th {\n",
       "        vertical-align: top;\n",
       "    }\n",
       "\n",
       "    .dataframe thead th {\n",
       "        text-align: right;\n",
       "    }\n",
       "</style>\n",
       "<table border=\"1\" class=\"dataframe\">\n",
       "  <thead>\n",
       "    <tr style=\"text-align: right;\">\n",
       "      <th></th>\n",
       "      <th>name</th>\n",
       "      <th>peptide</th>\n",
       "      <th>n_missed_clavages</th>\n",
       "      <th>monoisotopic_mass</th>\n",
       "      <th>is_unique</th>\n",
       "      <th>observed</th>\n",
       "    </tr>\n",
       "  </thead>\n",
       "  <tbody>\n",
       "    <tr>\n",
       "      <th>0</th>\n",
       "      <td>A0A250WVP4.1_360-390</td>\n",
       "      <td>DPATGVTY</td>\n",
       "      <td>0</td>\n",
       "      <td>822.375948</td>\n",
       "      <td>1</td>\n",
       "      <td>0</td>\n",
       "    </tr>\n",
       "    <tr>\n",
       "      <th>1</th>\n",
       "      <td>A0A250WVP4.1_360-390</td>\n",
       "      <td>FNAGTGQR</td>\n",
       "      <td>0</td>\n",
       "      <td>849.409314</td>\n",
       "      <td>1</td>\n",
       "      <td>0</td>\n",
       "    </tr>\n",
       "    <tr>\n",
       "      <th>2</th>\n",
       "      <td>A0A250WVP4.1_360-390</td>\n",
       "      <td>HMLPAGWAEAK</td>\n",
       "      <td>0</td>\n",
       "      <td>1209.596463</td>\n",
       "      <td>1</td>\n",
       "      <td>1</td>\n",
       "    </tr>\n",
       "    <tr>\n",
       "      <th>3</th>\n",
       "      <td>A0A250WVP4.1_360-390</td>\n",
       "      <td>DPATGVTYY</td>\n",
       "      <td>1</td>\n",
       "      <td>985.439277</td>\n",
       "      <td>1</td>\n",
       "      <td>0</td>\n",
       "    </tr>\n",
       "    <tr>\n",
       "      <th>4</th>\n",
       "      <td>A0A250WVP4.1_360-390</td>\n",
       "      <td>FNAGTGQRQWERP</td>\n",
       "      <td>1</td>\n",
       "      <td>1545.743673</td>\n",
       "      <td>1</td>\n",
       "      <td>0</td>\n",
       "    </tr>\n",
       "    <tr>\n",
       "      <th>...</th>\n",
       "      <td>...</td>\n",
       "      <td>...</td>\n",
       "      <td>...</td>\n",
       "      <td>...</td>\n",
       "      <td>...</td>\n",
       "      <td>...</td>\n",
       "    </tr>\n",
       "    <tr>\n",
       "      <th>3496</th>\n",
       "      <td>M7TCS5.1_1-62</td>\n",
       "      <td>HMMKGKVKWFNPR</td>\n",
       "      <td>3</td>\n",
       "      <td>1657.869742</td>\n",
       "      <td>1</td>\n",
       "      <td>0</td>\n",
       "    </tr>\n",
       "    <tr>\n",
       "      <th>3497</th>\n",
       "      <td>M7TCS5.1_1-62</td>\n",
       "      <td>KGFGFITGEDGKDIFVHQNDIAEGTQLNEEDSVEY</td>\n",
       "      <td>3</td>\n",
       "      <td>3900.796622</td>\n",
       "      <td>1</td>\n",
       "      <td>0</td>\n",
       "    </tr>\n",
       "    <tr>\n",
       "      <th>3498</th>\n",
       "      <td>M7TCS5.1_1-62</td>\n",
       "      <td>NEEDSVEYEKEESEKGPK</td>\n",
       "      <td>3</td>\n",
       "      <td>2124.933503</td>\n",
       "      <td>1</td>\n",
       "      <td>0</td>\n",
       "    </tr>\n",
       "    <tr>\n",
       "      <th>3499</th>\n",
       "      <td>M7TCS5.1_1-62</td>\n",
       "      <td>VKWFNPRKGFGFITGEDGK</td>\n",
       "      <td>3</td>\n",
       "      <td>2182.132358</td>\n",
       "      <td>1</td>\n",
       "      <td>0</td>\n",
       "    </tr>\n",
       "    <tr>\n",
       "      <th>3500</th>\n",
       "      <td>M7TCS5.1_1-62</td>\n",
       "      <td>WFNPRKGFGFITGEDGKDIFVHQNDIAEGTQL</td>\n",
       "      <td>3</td>\n",
       "      <td>3635.779730</td>\n",
       "      <td>1</td>\n",
       "      <td>0</td>\n",
       "    </tr>\n",
       "  </tbody>\n",
       "</table>\n",
       "<p>3501 rows × 6 columns</p>\n",
       "</div>"
      ],
      "text/plain": [
       "                      name                              peptide  \\\n",
       "0     A0A250WVP4.1_360-390                             DPATGVTY   \n",
       "1     A0A250WVP4.1_360-390                             FNAGTGQR   \n",
       "2     A0A250WVP4.1_360-390                          HMLPAGWAEAK   \n",
       "3     A0A250WVP4.1_360-390                            DPATGVTYY   \n",
       "4     A0A250WVP4.1_360-390                        FNAGTGQRQWERP   \n",
       "...                    ...                                  ...   \n",
       "3496         M7TCS5.1_1-62                        HMMKGKVKWFNPR   \n",
       "3497         M7TCS5.1_1-62  KGFGFITGEDGKDIFVHQNDIAEGTQLNEEDSVEY   \n",
       "3498         M7TCS5.1_1-62                   NEEDSVEYEKEESEKGPK   \n",
       "3499         M7TCS5.1_1-62                  VKWFNPRKGFGFITGEDGK   \n",
       "3500         M7TCS5.1_1-62     WFNPRKGFGFITGEDGKDIFVHQNDIAEGTQL   \n",
       "\n",
       "      n_missed_clavages  monoisotopic_mass  is_unique  observed  \n",
       "0                     0         822.375948          1         0  \n",
       "1                     0         849.409314          1         0  \n",
       "2                     0        1209.596463          1         1  \n",
       "3                     1         985.439277          1         0  \n",
       "4                     1        1545.743673          1         0  \n",
       "...                 ...                ...        ...       ...  \n",
       "3496                  3        1657.869742          1         0  \n",
       "3497                  3        3900.796622          1         0  \n",
       "3498                  3        2124.933503          1         0  \n",
       "3499                  3        2182.132358          1         0  \n",
       "3500                  3        3635.779730          1         0  \n",
       "\n",
       "[3501 rows x 6 columns]"
      ]
     },
     "execution_count": 8,
     "metadata": {},
     "output_type": "execute_result"
    }
   ],
   "source": [
    "df"
   ]
  }
 ],
 "metadata": {
  "kernelspec": {
   "display_name": "Python (ml-data-science-kernel-py310)",
   "language": "python",
   "name": "ml-data-science-kernel-py310"
  },
  "language_info": {
   "codemirror_mode": {
    "name": "ipython",
    "version": 3
   },
   "file_extension": ".py",
   "mimetype": "text/x-python",
   "name": "python",
   "nbconvert_exporter": "python",
   "pygments_lexer": "ipython3",
   "version": "3.10.13"
  }
 },
 "nbformat": 4,
 "nbformat_minor": 5
}
