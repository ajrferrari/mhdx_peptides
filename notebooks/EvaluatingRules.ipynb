{
 "cells": [
  {
   "cell_type": "code",
   "execution_count": 1,
   "id": "b70f68fe",
   "metadata": {},
   "outputs": [],
   "source": [
    "# Use statistical models to derive protease rules"
   ]
  },
  {
   "cell_type": "code",
   "execution_count": 2,
   "id": "739e335c",
   "metadata": {},
   "outputs": [],
   "source": [
    "import sys, glob\n",
    "\n",
    "sys.path.append(\"../src/\")"
   ]
  },
  {
   "cell_type": "code",
   "execution_count": 3,
   "id": "57bab11a",
   "metadata": {},
   "outputs": [],
   "source": [
    "from protease_rules import ProteaseRuleLearner, LearnerConfig, RuleConfig, NScanConfig"
   ]
  },
  {
   "cell_type": "code",
   "execution_count": 4,
   "id": "1c160246",
   "metadata": {},
   "outputs": [
    {
     "data": {
      "text/plain": [
       "['nep2', 'pepsin']"
      ]
     },
     "execution_count": 4,
     "metadata": {},
     "output_type": "execute_result"
    }
   ],
   "source": [
    "conditions = [i.split(\"/\")[-1] for i in glob.glob(\"../datasets/nonspecific_runs/*\")]\n",
    "conditions"
   ]
  },
  {
   "cell_type": "code",
   "execution_count": 5,
   "id": "ccdf728d",
   "metadata": {
    "scrolled": true
   },
   "outputs": [
    {
     "name": "stdout",
     "output_type": "stream",
     "text": [
      "nep2 {'rules_bundle_json': 'results_nep2/rules_bundle.json', 'boundary_C_csv': 'results_nep2/tables/nep2_boundary_C.csv', 'boundary_N_csv': 'results_nep2/tables/nep2_boundary_N.csv', 'nscan_summary_csv': 'results_nep2/tables/nep2_Nscan_summary.csv', 'missed_cleavages_csv': 'results_nep2/tables/nep2_missed_cleavages.csv', 'c_enrichment_png': 'results_nep2/figs/nep2_C_P1_enrichment.png', 'n_scan_png': 'results_nep2/figs/nep2_N_scan.png', 'p1_composition_png': 'results_nep2/figs/nep2_P1_composition.png'}\n",
      "pepsin {'rules_bundle_json': 'results_pepsin/rules_bundle.json', 'boundary_C_csv': 'results_pepsin/tables/pepsin_boundary_C.csv', 'boundary_N_csv': 'results_pepsin/tables/pepsin_boundary_N.csv', 'nscan_summary_csv': 'results_pepsin/tables/pepsin_Nscan_summary.csv', 'missed_cleavages_csv': 'results_pepsin/tables/pepsin_missed_cleavages.csv', 'c_enrichment_png': 'results_pepsin/figs/pepsin_C_P1_enrichment.png', 'n_scan_png': 'results_pepsin/figs/pepsin_N_scan.png', 'p1_composition_png': 'results_pepsin/figs/pepsin_P1_composition.png'}\n"
     ]
    }
   ],
   "source": [
    "for condition in conditions:\n",
    "    PRL = (ProteaseRuleLearner.from_paths(\n",
    "                df_i_path=\"../datasets/sequences/AF25003_AF25004.csv\",\n",
    "                fragpipe_path=f\"../datasets/nonspecific_runs/{condition}/peptide.tsv\",\n",
    "                cfg=LearnerConfig(bg_scope=\"identified\", peptide_col=\"Peptide\",\n",
    "                                  rule_cfg=RuleConfig(thr_balanced=1.8, thr_broad=1.2, use_pvals=True, proline_guard=True, fdr_alpha=0.05),\n",
    "                                  nscan_cfg=NScanConfig(min_starts_with_prev=25, min_enrichment=1.5, fdr_alpha=1e-3)))\n",
    "           .build_observations(multi_map=\"all\")\n",
    "           .build_boundary_tables()\n",
    "           .derive_c_rule()         # uses cfg.rule_cfg by default\n",
    "           .run_nscan()             # uses cfg.nscan_cfg\n",
    "           .compute_missed_cleavages()\n",
    "           .set_missed_cleavage_percentile(95.0)\n",
    "    )\n",
    "    \n",
    "    \n",
    "    # save\n",
    "    out_paths = PRL.save_results(out_dir=f\"results_{condition}\", condition_label=condition)\n",
    "    print(condition,\n",
    "          out_paths\n",
    "         )"
   ]
  },
  {
   "cell_type": "code",
   "execution_count": null,
   "id": "b3fe7b57",
   "metadata": {},
   "outputs": [],
   "source": []
  }
 ],
 "metadata": {
  "kernelspec": {
   "display_name": "Python (ml-data-science-kernel-py310)",
   "language": "python",
   "name": "ml-data-science-kernel-py310"
  },
  "language_info": {
   "codemirror_mode": {
    "name": "ipython",
    "version": 3
   },
   "file_extension": ".py",
   "mimetype": "text/x-python",
   "name": "python",
   "nbconvert_exporter": "python",
   "pygments_lexer": "ipython3",
   "version": "3.10.13"
  }
 },
 "nbformat": 4,
 "nbformat_minor": 5
}
