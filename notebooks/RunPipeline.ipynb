{
 "cells": [
  {
   "cell_type": "code",
   "execution_count": 1,
   "id": "f0db74c2",
   "metadata": {},
   "outputs": [],
   "source": [
    "import sys, glob, json\n",
    "\n",
    "sys.path.append(\"../src/\")"
   ]
  },
  {
   "cell_type": "code",
   "execution_count": 2,
   "id": "77d0aeee",
   "metadata": {},
   "outputs": [],
   "source": [
    "from peptide_pipeline import run_pipeline, load_rules_bundle, peptides_enzymatic"
   ]
  },
  {
   "cell_type": "code",
   "execution_count": 3,
   "id": "7690819c",
   "metadata": {},
   "outputs": [
    {
     "data": {
      "text/plain": [
       "['nep2', 'pepsin']"
      ]
     },
     "execution_count": 3,
     "metadata": {},
     "output_type": "execute_result"
    }
   ],
   "source": [
    "conditions = [i.split(\"/\")[-1] for i in glob.glob(\"../datasets/optimized_runs/*\")]\n",
    "conditions"
   ]
  },
  {
   "cell_type": "code",
   "execution_count": 4,
   "id": "cbcd92a3",
   "metadata": {},
   "outputs": [
    {
     "data": {
      "text/plain": [
       "['results_nep2/rules_bundle.json', 'results_pepsin/rules_bundle.json']"
      ]
     },
     "execution_count": 4,
     "metadata": {},
     "output_type": "execute_result"
    }
   ],
   "source": [
    "rules = glob.glob(\"results*/*json\")\n",
    "rules"
   ]
  },
  {
   "cell_type": "code",
   "execution_count": null,
   "id": "25128f93",
   "metadata": {},
   "outputs": [
    {
     "data": {
      "text/html": [
       "<div>\n",
       "<style scoped>\n",
       "    .dataframe tbody tr th:only-of-type {\n",
       "        vertical-align: middle;\n",
       "    }\n",
       "\n",
       "    .dataframe tbody tr th {\n",
       "        vertical-align: top;\n",
       "    }\n",
       "\n",
       "    .dataframe thead th {\n",
       "        text-align: right;\n",
       "    }\n",
       "</style>\n",
       "<table border=\"1\" class=\"dataframe\">\n",
       "  <thead>\n",
       "    <tr style=\"text-align: right;\">\n",
       "      <th></th>\n",
       "      <th>name</th>\n",
       "      <th>peptide</th>\n",
       "      <th>n_missed_clavages</th>\n",
       "      <th>monoisotopic_mass</th>\n",
       "      <th>is_unique</th>\n",
       "      <th>observed</th>\n",
       "    </tr>\n",
       "  </thead>\n",
       "  <tbody>\n",
       "    <tr>\n",
       "      <th>0</th>\n",
       "      <td>A0A250WVP4.1_360-390</td>\n",
       "      <td>DPATGVTY</td>\n",
       "      <td>0</td>\n",
       "      <td>822.375948</td>\n",
       "      <td>1</td>\n",
       "      <td>0</td>\n",
       "    </tr>\n",
       "    <tr>\n",
       "      <th>1</th>\n",
       "      <td>A0A250WVP4.1_360-390</td>\n",
       "      <td>FNAGTGQR</td>\n",
       "      <td>0</td>\n",
       "      <td>849.409314</td>\n",
       "      <td>1</td>\n",
       "      <td>0</td>\n",
       "    </tr>\n",
       "    <tr>\n",
       "      <th>2</th>\n",
       "      <td>A0A250WVP4.1_360-390</td>\n",
       "      <td>HMLPAGWAEAK</td>\n",
       "      <td>0</td>\n",
       "      <td>1209.596463</td>\n",
       "      <td>1</td>\n",
       "      <td>1</td>\n",
       "    </tr>\n",
       "    <tr>\n",
       "      <th>3</th>\n",
       "      <td>A0A250WVP4.1_360-390</td>\n",
       "      <td>DPATGVTYY</td>\n",
       "      <td>1</td>\n",
       "      <td>985.439277</td>\n",
       "      <td>1</td>\n",
       "      <td>0</td>\n",
       "    </tr>\n",
       "    <tr>\n",
       "      <th>4</th>\n",
       "      <td>A0A250WVP4.1_360-390</td>\n",
       "      <td>FNAGTGQRQWERP</td>\n",
       "      <td>1</td>\n",
       "      <td>1545.743673</td>\n",
       "      <td>1</td>\n",
       "      <td>0</td>\n",
       "    </tr>\n",
       "  </tbody>\n",
       "</table>\n",
       "</div>"
      ],
      "text/plain": [
       "                   name        peptide  n_missed_clavages  monoisotopic_mass  \\\n",
       "0  A0A250WVP4.1_360-390       DPATGVTY                  0         822.375948   \n",
       "1  A0A250WVP4.1_360-390       FNAGTGQR                  0         849.409314   \n",
       "2  A0A250WVP4.1_360-390    HMLPAGWAEAK                  0        1209.596463   \n",
       "3  A0A250WVP4.1_360-390      DPATGVTYY                  1         985.439277   \n",
       "4  A0A250WVP4.1_360-390  FNAGTGQRQWERP                  1        1545.743673   \n",
       "\n",
       "   is_unique  observed  \n",
       "0          1         0  \n",
       "1          1         0  \n",
       "2          1         1  \n",
       "3          1         0  \n",
       "4          1         0  "
      ]
     },
     "metadata": {},
     "output_type": "display_data"
    }
   ],
   "source": [
    "# Input files\n",
    "df_initial_csv = \"../datasets/sequences/AF25003_AF25004.csv\"   # must have columns: name, sequence\n",
    "\n",
    "for condition in conditions:\n",
    "\n",
    "    df_exp_tsv     = f\"../datasets/optimized_runs/{condition}/peptide.tsv\"\n",
    "    outdir         = f\"./pipeline_out/{condition}\"\n",
    "    \n",
    "    rules_bundle_path = f\"./results_{condition}/rules_bundle.json\"\n",
    "    \n",
    "    missed_cleavages = int(load_rules_bundle(rules_bundle_path)['mc_cutoff'])\n",
    "    \n",
    "    df_u_custom = run_pipeline(\n",
    "        df_initial_csv=df_initial_csv,\n",
    "        df_exp_tsv=df_exp_tsv,\n",
    "        outdir=outdir,\n",
    "        rules_bundle_path=rules_bundle_path,  # path to your JSON\n",
    "        rules_bundle_tier=\"broad\",  # or \"strict\"/\"balanced\"\n",
    "        missed_cleavages=missed_cleavages,\n",
    "        semi_specific=False,         # if you want to allow semi-specific termini\n",
    "        top_n_maps=200,               # plot 3 top proteins\n",
    "    )\n",
    "\n",
    "    display(df_u_custom.head())"
   ]
  },
  {
   "cell_type": "code",
   "execution_count": null,
   "id": "d69ca8c8",
   "metadata": {},
   "outputs": [],
   "source": []
  }
 ],
 "metadata": {
  "kernelspec": {
   "display_name": "Python (ml-data-science-kernel-py310)",
   "language": "python",
   "name": "ml-data-science-kernel-py310"
  },
  "language_info": {
   "codemirror_mode": {
    "name": "ipython",
    "version": 3
   },
   "file_extension": ".py",
   "mimetype": "text/x-python",
   "name": "python",
   "nbconvert_exporter": "python",
   "pygments_lexer": "ipython3",
   "version": "3.10.13"
  }
 },
 "nbformat": 4,
 "nbformat_minor": 5
}
